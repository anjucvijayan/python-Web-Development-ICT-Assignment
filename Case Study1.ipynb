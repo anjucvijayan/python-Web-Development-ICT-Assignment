{
 "cells": [
  {
   "cell_type": "markdown",
   "id": "72f71cd6",
   "metadata": {},
   "source": [
    "1. A school has following rules for grading system:\n",
    "a. Below 25 - F\n",
    "b. 25 to 45 - E\n",
    "c. 45 to 50 - D\n",
    "d. 50 to 60 - C\n",
    "e. 60 to 80 - B\n",
    "f. Above 80 - A\n",
    "Ask user to enter marks and print the corresponding grade."
   ]
  },
  {
   "cell_type": "code",
   "execution_count": 1,
   "id": "936cff30",
   "metadata": {},
   "outputs": [
    {
     "name": "stdout",
     "output_type": "stream",
     "text": [
      "Enter the Mark70\n",
      "B\n"
     ]
    }
   ],
   "source": [
    "mark=float(input('Enter the Mark'))\n",
    "if mark<=25:\n",
    "    print('F')\n",
    "elif mark>25 and mark<=45:\n",
    "    print('E')\n",
    "elif mark>45 and mark<=50:\n",
    "    print('D')\n",
    "elif mark>50 and mark<=60:\n",
    "    print('C')\n",
    "elif mark>60 and mark<=80:\n",
    "    print('B')\n",
    "else:\n",
    "    print(A)\n",
    "    "
   ]
  },
  {
   "cell_type": "markdown",
   "id": "4602f95d",
   "metadata": {},
   "source": [
    "2. You have a list of names. Create a new list which contains only the names \n",
    "with non-repeating characters. \n",
    "Sample input = [‘John’,’Peter’,’Meera’,’Mini’,’Krishna’]\n",
    "Sample output = [‘John’,Krishna]"
   ]
  },
  {
   "cell_type": "code",
   "execution_count": 2,
   "id": "bc890c6a",
   "metadata": {},
   "outputs": [
    {
     "name": "stdout",
     "output_type": "stream",
     "text": [
      "['John', 'Krishna']\n"
     ]
    }
   ],
   "source": [
    "list1=['John','Peter','Meera','Mini','Krishna']\n",
    "list2=[]\n",
    "list3=[]\n",
    "for i in list1:\n",
    "    for j in range(0,len(i)):\n",
    "        for k in range(j+1,len(i)):\n",
    "            if i[j]==i[k]:\n",
    "                list2.append(i)\n",
    "                \n",
    "for i in list1:\n",
    "    if i not in list2:\n",
    "        list3.append(i)\n",
    "\n",
    "print(list3)            \n",
    "                \n",
    "        "
   ]
  },
  {
   "cell_type": "code",
   "execution_count": 3,
   "id": "ff226919",
   "metadata": {},
   "outputs": [],
   "source": [
    "# string = \"Welcome to TutorialsPoint family\"\n",
    "# freq={}\n",
    "# for i in string:\n",
    "#     if i in freq:\n",
    "#          freq[i]+=1\n",
    "#     else:\n",
    "#         freq[i]=1\n",
    "# print(str(freq))\n",
    "        \n",
    "        "
   ]
  },
  {
   "cell_type": "markdown",
   "id": "fb88abc5",
   "metadata": {},
   "source": [
    "3. Take values of length and breadth of a rectangle from user and check if it \n",
    "is square or not"
   ]
  },
  {
   "cell_type": "code",
   "execution_count": 4,
   "id": "b898b50e",
   "metadata": {},
   "outputs": [
    {
     "name": "stdout",
     "output_type": "stream",
     "text": [
      "Enter the length of rectangle : 4\n",
      "Enter the bredth of rectangle : 4\n",
      "This is a square\n"
     ]
    }
   ],
   "source": [
    "l=int(input('Enter the length of rectangle : '))\n",
    "b=int(input('Enter the bredth of rectangle : '))\n",
    "if l==b:\n",
    "    print('This is a square')\n",
    "else:\n",
    "    print('This is not a square')"
   ]
  },
  {
   "cell_type": "markdown",
   "id": "42ebe41d",
   "metadata": {},
   "source": [
    "4. A student will not be allowed to sit in exam if his/her attendance is less \n",
    "than 75%. Take following input from user Number of classes held \n",
    "Number of classes attended. And print percentage of class attended Is \n",
    "percentage of class attended Is or not"
   ]
  },
  {
   "cell_type": "code",
   "execution_count": 5,
   "id": "f1a87d21",
   "metadata": {},
   "outputs": [
    {
     "name": "stdout",
     "output_type": "stream",
     "text": [
      "Enter the number of classes held : 50\n",
      "Enter the number of classes attended : 34\n",
      "percentage of class attended Is:  68.0\n",
      "student is not allowed to sit in exam \n"
     ]
    }
   ],
   "source": [
    "no_of_classes=int(input('Enter the number of classes held : '))\n",
    "attended=int(input('Enter the number of classes attended : '))\n",
    "percentage=(attended/no_of_classes)*100\n",
    "print('percentage of class attended Is: ',percentage)\n",
    "if percentage>75:\n",
    "    print('student is allowed to sit in the exam ')\n",
    "else:\n",
    "    print('student is not allowed to sit in exam ')"
   ]
  },
  {
   "cell_type": "markdown",
   "id": "1101f2a9",
   "metadata": {},
   "source": [
    "5. Create a list by taking length of the list and elements of the list from user. \n",
    "Then find the sum of the elements of the list. Also create a new called even \n",
    "list which contains only even numbers from first list and odd list which \n",
    "contains odd numbers from the list. \n",
    "Sample input:\n",
    "Length of the list = 5\n",
    "List1 = [2,6,3,1,5]\n",
    "Sum = 17\n",
    "Even_list=[2,6]\n",
    "Odd_list=[3,1,5]"
   ]
  },
  {
   "cell_type": "code",
   "execution_count": 6,
   "id": "97bbaa25",
   "metadata": {},
   "outputs": [
    {
     "name": "stdout",
     "output_type": "stream",
     "text": [
      "Enter the length of list : 5\n",
      "Enter the elements of list : 2 5 6 7 8\n",
      "sum =  28\n",
      "even :  [2, 6, 8]\n",
      "odd :  [5, 7]\n"
     ]
    }
   ],
   "source": [
    "n=int(input('Enter the length of list : '))\n",
    "l=map(int,input('Enter the elements of list : ').split())\n",
    "l=list(l)\n",
    "even=[]\n",
    "odd=[]\n",
    "for i in l:\n",
    "    sum1=sum(l)\n",
    "    if i%2==0:\n",
    "        even.append(i)\n",
    "    else:\n",
    "        odd.append(i)\n",
    "\n",
    "\n",
    "print('sum = ',sum1)\n",
    "print('even : ',even)\n",
    "print('odd : ',odd)"
   ]
  },
  {
   "cell_type": "markdown",
   "id": "100c262c",
   "metadata": {},
   "source": [
    "6. Create a sample chatbot for an ecommerce website."
   ]
  },
  {
   "cell_type": "markdown",
   "id": "46b5ce10",
   "metadata": {},
   "source": [
    "7. Write a program to find the roots of a quadratic equation. Get the co\u0002efficients of quadratic equation ax^2+bx+c and display whether the roots \n",
    "are real and equal or real and distinct or roots are imaginary. You have to \n",
    "find the roots and display it as well."
   ]
  },
  {
   "cell_type": "code",
   "execution_count": 8,
   "id": "22898caf",
   "metadata": {},
   "outputs": [
    {
     "name": "stdout",
     "output_type": "stream",
     "text": [
      "Enter the co-efficients : 3 2 5\n",
      "(-0.3333333333333333-1.247219128924647j) (-0.3333333333333333+1.247219128924647j)\n",
      "-56.0\n",
      "The roots are imaginary and unequal.\n"
     ]
    }
   ],
   "source": [
    "import cmath\n",
    "a,b,c=map(float,input('Enter the co-efficients : ').split())\n",
    "d=(b**2)-(4*a*c)\n",
    "\n",
    "root1=(-b-cmath.sqrt(d))/(2*a)\n",
    "root2=(-b+cmath.sqrt(d))/(2*a)\n",
    "print(root1,root2)\n",
    "print(d)\n",
    "if d>0:\n",
    "    print('The roots are real and unequal.')\n",
    "elif d==0:\n",
    "    print('The roots are real and equal.')\n",
    "else:\n",
    "    print('The roots are imaginary and unequal.')\n"
   ]
  },
  {
   "cell_type": "markdown",
   "id": "32a30254",
   "metadata": {},
   "source": [
    "8. Given a range of first 10 numbers, write a Python program to iterate from \n",
    "start number to the end number and print the sum of the current number \n",
    "and previous number. \n",
    "Sample input: 1….10 \n",
    "Sample output: Current Number 1 Previous Number 0 Sum: 1\n",
    "Current Number 2 Previous Number 1 Sum: 3 \n",
    "Current Number 3 Previous Number 2 Sum: 5… \n",
    "…….\n",
    "Current Number 10 Previous Number 9 Sum: 19"
   ]
  },
  {
   "cell_type": "code",
   "execution_count": 9,
   "id": "f0eb3a16",
   "metadata": {},
   "outputs": [
    {
     "name": "stdout",
     "output_type": "stream",
     "text": [
      "Current Number 1 Previous Number 0 sum: 1\n",
      "Current Number 2 Previous Number 1 sum: 3\n",
      "Current Number 3 Previous Number 2 sum: 5\n",
      "Current Number 4 Previous Number 3 sum: 7\n",
      "Current Number 5 Previous Number 4 sum: 9\n",
      "Current Number 6 Previous Number 5 sum: 11\n",
      "Current Number 7 Previous Number 6 sum: 13\n",
      "Current Number 8 Previous Number 7 sum: 15\n",
      "Current Number 9 Previous Number 8 sum: 17\n",
      "Current Number 10 Previous Number 9 sum: 19\n"
     ]
    }
   ],
   "source": [
    "p_no=0\n",
    "for i in range(1,11):\n",
    "    sum1=p_no+i\n",
    "    print('Current Number', i, 'Previous Number', p_no, 'sum:', sum1 )\n",
    "    p_no=p_no+1"
   ]
  },
  {
   "cell_type": "markdown",
   "id": "e0b405e0",
   "metadata": {},
   "source": [
    "9. Write a Python program to find the prime numbers in a given range. Get \n",
    "the range from user and print prime numbers in that range"
   ]
  },
  {
   "cell_type": "code",
   "execution_count": 10,
   "id": "03ee0944",
   "metadata": {},
   "outputs": [
    {
     "name": "stdout",
     "output_type": "stream",
     "text": [
      "enter the lower interval : 0\n",
      "enter the upper interval : 10\n",
      "[2, 3, 5, 7]\n"
     ]
    }
   ],
   "source": [
    "lower=int(input('enter the lower interval : '))\n",
    "upper=int(input('enter the upper interval : '))\n",
    "prime=[]\n",
    "for num in range(lower,upper+1):\n",
    "    if num>1:\n",
    "        for i in range(2,num):\n",
    "            if (num%i)==0:\n",
    "                break\n",
    "        else:\n",
    "            prime.append(num)\n",
    "    \n",
    "len(prime)                \n",
    "print(prime)       "
   ]
  },
  {
   "cell_type": "markdown",
   "id": "899f2653",
   "metadata": {},
   "source": [
    "10. Write a Python program to print Fibonacci series in a given range. Get \n",
    "the range from user and print prime numbers in that range"
   ]
  },
  {
   "cell_type": "code",
   "execution_count": 11,
   "id": "1228f3df",
   "metadata": {},
   "outputs": [
    {
     "name": "stdout",
     "output_type": "stream",
     "text": [
      "Enter the range10\n",
      "[0, 1, 1, 2, 3, 5, 8, 13, 21, 34, 55]\n",
      "[2, 3, 5, 13]\n"
     ]
    }
   ],
   "source": [
    "n=int(input('Enter the range'))\n",
    "first=0\n",
    "second=1\n",
    "fib=[]\n",
    "final=[]\n",
    "fib.append(0)\n",
    "fib.append(1)\n",
    "for i in range(1,n):\n",
    "    third=first+second\n",
    "    fib.append(third)\n",
    "    first,second=second,third\n",
    "print(fib)\n",
    "for num in fib:\n",
    "    if num>1:\n",
    "        for j in range(2,num):\n",
    "             if num%j==0:\n",
    "                    break\n",
    "        else:\n",
    "            final.append(num)\n",
    "            \n",
    "        \n",
    "    \n",
    "\n",
    "print(final)           \n",
    "        "
   ]
  },
  {
   "cell_type": "code",
   "execution_count": null,
   "id": "2caf6e4c",
   "metadata": {},
   "outputs": [],
   "source": []
  }
 ],
 "metadata": {
  "kernelspec": {
   "display_name": "Python 3 (ipykernel)",
   "language": "python",
   "name": "python3"
  },
  "language_info": {
   "codemirror_mode": {
    "name": "ipython",
    "version": 3
   },
   "file_extension": ".py",
   "mimetype": "text/x-python",
   "name": "python",
   "nbconvert_exporter": "python",
   "pygments_lexer": "ipython3",
   "version": "3.9.13"
  }
 },
 "nbformat": 4,
 "nbformat_minor": 5
}
