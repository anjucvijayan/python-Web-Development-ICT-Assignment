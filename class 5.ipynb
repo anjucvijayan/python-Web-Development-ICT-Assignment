{
 "cells": [
  {
   "cell_type": "markdown",
   "id": "b760a869",
   "metadata": {},
   "source": [
    "# FUNCTION"
   ]
  },
  {
   "cell_type": "code",
   "execution_count": null,
   "id": "e304a339",
   "metadata": {},
   "outputs": [],
   "source": [
    "# buit in function"
   ]
  },
  {
   "cell_type": "code",
   "execution_count": null,
   "id": "eaee0229",
   "metadata": {},
   "outputs": [],
   "source": [
    "print()\n",
    "input()\n",
    "int()\n",
    "float()\n",
    "str()\n",
    "type()\n",
    "round()\n",
    "max()\n",
    "min()\n",
    "sum()\n",
    "pow()"
   ]
  },
  {
   "cell_type": "code",
   "execution_count": 1,
   "id": "bb432d58",
   "metadata": {},
   "outputs": [
    {
     "name": "stdout",
     "output_type": "stream",
     "text": [
      "I am going to call my first function\n",
      "Learning python Function\n"
     ]
    }
   ],
   "source": [
    "#no arguments and no return value\n",
    "def sample_fun():\n",
    "    print('Learning python Function')\n",
    "    \n",
    "\n",
    "print('I am going to call my first function')\n",
    "sample_fun()"
   ]
  },
  {
   "cell_type": "code",
   "execution_count": 3,
   "id": "7889c7ac",
   "metadata": {},
   "outputs": [
    {
     "name": "stdout",
     "output_type": "stream",
     "text": [
      "Learning python function\n"
     ]
    }
   ],
   "source": [
    "#passing arguments to the function\n",
    "\n",
    "\n",
    "def sample_func1(x):\n",
    "    print('Learning {} function'.format(x))\n",
    "    \n",
    "    \n",
    "sample_func1('python')\n"
   ]
  },
  {
   "cell_type": "code",
   "execution_count": 5,
   "id": "286ea7cf",
   "metadata": {},
   "outputs": [
    {
     "name": "stdout",
     "output_type": "stream",
     "text": [
      "Enter the programing lang : python\n",
      "Learning python function\n"
     ]
    }
   ],
   "source": [
    "#parameters are variables listed inside function def\n",
    "#arguments varriables sent to function when it is called \n",
    "def sample_func1(x): # x is parameter\n",
    "    print('Learning {} function'.format(x))\n",
    "\n",
    "a=input('Enter the programing lang : ')\n",
    "sample_func1(a) # a is arguments"
   ]
  },
  {
   "cell_type": "code",
   "execution_count": 8,
   "id": "c9e826a1",
   "metadata": {},
   "outputs": [
    {
     "name": "stdout",
     "output_type": "stream",
     "text": [
      "Enter the first number5\n",
      "Enter the second number6\n",
      "Sum =  11\n"
     ]
    }
   ],
   "source": [
    "#returning value from function\n",
    "\n",
    "def add(a,b):\n",
    "    s=a+b\n",
    "    return(s)\n",
    "    \n",
    "x=int(input('Enter the first number'))\n",
    "y=int(input('Enter the second number'))\n",
    "print('Sum = ',add(x,y))"
   ]
  },
  {
   "cell_type": "code",
   "execution_count": 10,
   "id": "b2bb2856",
   "metadata": {},
   "outputs": [
    {
     "data": {
      "text/plain": [
       "'selected'"
      ]
     },
     "execution_count": 10,
     "metadata": {},
     "output_type": "execute_result"
    }
   ],
   "source": [
    "# mark>80 and age>21 selected else rejected\n",
    "\n",
    "def selected(mark,age):\n",
    "    if mark>80 and age>21:\n",
    "        return('selected')\n",
    "    else:\n",
    "        return('rejected')\n",
    "    \n",
    "selected(81,22)   "
   ]
  },
  {
   "cell_type": "code",
   "execution_count": 13,
   "id": "817ca539",
   "metadata": {},
   "outputs": [
    {
     "name": "stdout",
     "output_type": "stream",
     "text": [
      "Calling function\n",
      "a = 20\n",
      "10\n"
     ]
    }
   ],
   "source": [
    "#Global and local variable\n",
    "\n",
    "a=10 #global variable\n",
    "def myfunc():\n",
    "    a=20 #local variable\n",
    "    return(a)\n",
    "\n",
    "print('Calling function')\n",
    "print('a =',myfunc())\n",
    "print(a)"
   ]
  },
  {
   "cell_type": "code",
   "execution_count": 16,
   "id": "2e506882",
   "metadata": {},
   "outputs": [
    {
     "data": {
      "text/plain": [
       "25"
      ]
     },
     "execution_count": 16,
     "metadata": {},
     "output_type": "execute_result"
    }
   ],
   "source": [
    "a=10 #global variable\n",
    "def myfunc(x):\n",
    "    a=20\n",
    "    return(a+x)\n",
    "myfunc(5)"
   ]
  },
  {
   "cell_type": "code",
   "execution_count": 19,
   "id": "7fee6b24",
   "metadata": {},
   "outputs": [
    {
     "name": "stdout",
     "output_type": "stream",
     "text": [
      "['apple', 'orange', 'kiwi', 'banana']\n"
     ]
    }
   ],
   "source": [
    "#pass list to a function\n",
    "\n",
    "def func(food):\n",
    "    print(food)\n",
    "fruit=['apple','orange','kiwi','banana']\n",
    "func(fruit)"
   ]
  },
  {
   "cell_type": "code",
   "execution_count": 28,
   "id": "a6c6e902",
   "metadata": {},
   "outputs": [
    {
     "data": {
      "text/plain": [
       "[8, 2, 4]"
      ]
     },
     "execution_count": 28,
     "metadata": {},
     "output_type": "execute_result"
    }
   ],
   "source": [
    "#passing a list of numbers to a function called even\n",
    "#return only the even numbers from that list\n",
    "\n",
    "list1=[5,9,8,3,2,4,7]\n",
    "def even(x):\n",
    "    list2=[]\n",
    "    for i in x:\n",
    "        if i%2==0:\n",
    "            list2.append(i)\n",
    "    return(list2)\n",
    "even(list1)\n",
    "            \n",
    "        "
   ]
  },
  {
   "cell_type": "code",
   "execution_count": 29,
   "id": "baf4116e",
   "metadata": {},
   "outputs": [
    {
     "name": "stdout",
     "output_type": "stream",
     "text": [
      "5\n",
      "26\n"
     ]
    }
   ],
   "source": [
    "#if number of arguments passing are not known\n",
    "\n",
    "def sum1(*num):\n",
    "    result=0\n",
    "    for i in num:\n",
    "        result=result+i\n",
    "    return(result)\n",
    "\n",
    "print(sum1(2,3))\n",
    "print(sum1(1,2,5,9,6,3))"
   ]
  },
  {
   "cell_type": "code",
   "execution_count": null,
   "id": "3e837ff2",
   "metadata": {},
   "outputs": [],
   "source": [
    "#recursive function\n",
    "#function that calls itself\n",
    "\n"
   ]
  },
  {
   "cell_type": "code",
   "execution_count": 30,
   "id": "9e472de5",
   "metadata": {},
   "outputs": [
    {
     "data": {
      "text/plain": [
       "15"
      ]
     },
     "execution_count": 30,
     "metadata": {},
     "output_type": "execute_result"
    }
   ],
   "source": [
    "def addupto(n):\n",
    "    if n==0: return(0) #base condition\n",
    "    else : return(n+addupto(n-1)) #recursive condition\n",
    "    \n",
    "addupto(5)\n",
    "        "
   ]
  },
  {
   "cell_type": "code",
   "execution_count": null,
   "id": "c0533dad",
   "metadata": {},
   "outputs": [],
   "source": [
    "#factorial of number"
   ]
  },
  {
   "cell_type": "code",
   "execution_count": 31,
   "id": "3b08d8a2",
   "metadata": {},
   "outputs": [
    {
     "data": {
      "text/plain": [
       "120"
      ]
     },
     "execution_count": 31,
     "metadata": {},
     "output_type": "execute_result"
    }
   ],
   "source": [
    "def factorial(n):\n",
    "    if n==1: return(1) #we have to stop when \n",
    "    else:\n",
    "        return(n*factorial(n-1))\n",
    "factorial(5)\n",
    "\n"
   ]
  },
  {
   "cell_type": "code",
   "execution_count": null,
   "id": "4cbed547",
   "metadata": {},
   "outputs": [],
   "source": [
    "#lambda function\n",
    "#function without name\n",
    "#function with one expression it can have multiple arguments\n",
    "\n",
    "#syntax : lambda arguments:expression"
   ]
  },
  {
   "cell_type": "code",
   "execution_count": 32,
   "id": "6b733b3d",
   "metadata": {},
   "outputs": [
    {
     "name": "stdout",
     "output_type": "stream",
     "text": [
      "3\n"
     ]
    }
   ],
   "source": [
    "sum1 = lambda a,b:a+b\n",
    "print(sum1(1,2))"
   ]
  },
  {
   "cell_type": "code",
   "execution_count": 35,
   "id": "10255469",
   "metadata": {},
   "outputs": [
    {
     "name": "stdout",
     "output_type": "stream",
     "text": [
      "4\n"
     ]
    }
   ],
   "source": [
    "lar = lambda a,b: max(a,b) \n",
    "print(lar(3,4))"
   ]
  },
  {
   "cell_type": "code",
   "execution_count": 45,
   "id": "2beb44e4",
   "metadata": {},
   "outputs": [
    {
     "name": "stdout",
     "output_type": "stream",
     "text": [
      "1\n",
      "4\n",
      "9\n",
      "16\n"
     ]
    }
   ],
   "source": [
    "#lambda with a list\n",
    "list1=[lambda i=x:i**2 for x in range(1,5)]\n",
    "for num in list1:\n",
    "    print(num())"
   ]
  },
  {
   "cell_type": "code",
   "execution_count": 37,
   "id": "338c989f",
   "metadata": {},
   "outputs": [
    {
     "name": "stdout",
     "output_type": "stream",
     "text": [
      "5\n"
     ]
    }
   ],
   "source": [
    "lar=lambda a,b: a if a>b else b\n",
    "print(lar(2,5))"
   ]
  },
  {
   "cell_type": "code",
   "execution_count": 39,
   "id": "07647d2e",
   "metadata": {},
   "outputs": [
    {
     "name": "stdout",
     "output_type": "stream",
     "text": [
      "6\n"
     ]
    }
   ],
   "source": [
    "even = lambda a,b :a if a%2==0 else b\n",
    "print(even(3,6))"
   ]
  },
  {
   "cell_type": "code",
   "execution_count": 47,
   "id": "4478390b",
   "metadata": {},
   "outputs": [
    {
     "name": "stdout",
     "output_type": "stream",
     "text": [
      "[99, 99, 58, 66, 78]\n"
     ]
    }
   ],
   "source": [
    "#filter function\n",
    "l=[5,7,99,33,44,99,58,66,78]\n",
    "final_list = list(filter(lambda x: (x>50),l))\n",
    "\n",
    "print(final_list)"
   ]
  },
  {
   "cell_type": "markdown",
   "id": "3cdb6716",
   "metadata": {},
   "source": [
    "# Practice question"
   ]
  },
  {
   "cell_type": "markdown",
   "id": "09df01f3",
   "metadata": {},
   "source": [
    "Python Practice Problems\n",
    "1. Write a Python function to find sum of squares of two numbers ((a+b)^2)\n",
    "2. Write a function to check whether the year entered by the user is leap year\n",
    "or not.\n",
    "3. Write a lambda function to compute 3x^2+9x+10 where x = 5\n",
    "4. Write a recursive function to find the product of numbers up to n. Get the\n",
    "value of n from user\n",
    "5. Write a function to print the even numbers in a list, Pass the list as function\n",
    "parameter\n",
    "6. Write a recursive function to find the multiplication table of number passed\n",
    "by the user"
   ]
  },
  {
   "cell_type": "code",
   "execution_count": 53,
   "id": "bf5cbf87",
   "metadata": {},
   "outputs": [
    {
     "name": "stdout",
     "output_type": "stream",
     "text": [
      "13\n"
     ]
    }
   ],
   "source": [
    "#1. Write a Python function to find sum of squares of two numbers ((a+b)^2)\n",
    "def sum1(a,b):\n",
    "    x=a**2+b**2\n",
    "    return(x)\n",
    "\n",
    "print(sum1(2,3))\n",
    "    "
   ]
  },
  {
   "cell_type": "code",
   "execution_count": null,
   "id": "dce5c66b",
   "metadata": {},
   "outputs": [],
   "source": [
    "#2. Write a function to check whether the year entered by the user is leap year\n",
    "or not."
   ]
  },
  {
   "cell_type": "code",
   "execution_count": 13,
   "id": "719c5b9d",
   "metadata": {},
   "outputs": [
    {
     "name": "stdout",
     "output_type": "stream",
     "text": [
      "enther the year2022\n",
      "not leap year\n"
     ]
    }
   ],
   "source": [
    "y=int(input('enther the year'))\n",
    "def leap(y):\n",
    "    if ((y%400)==0) or ((y%100)!=0) and(y%4==0):\n",
    "        print('leap year')\n",
    "    else:\n",
    "        print('not leap year')\n",
    "leap(y)"
   ]
  },
  {
   "cell_type": "code",
   "execution_count": 6,
   "id": "b2dc65ff",
   "metadata": {},
   "outputs": [
    {
     "name": "stdout",
     "output_type": "stream",
     "text": [
      "130\n"
     ]
    }
   ],
   "source": [
    "#3. Write a lambda function to compute 3x^2+9x+10 where x = 5\n",
    "a=lambda x:3*x**2+9*x+10\n",
    "print(a(5))"
   ]
  },
  {
   "cell_type": "code",
   "execution_count": 54,
   "id": "a81c8b1d",
   "metadata": {},
   "outputs": [
    {
     "data": {
      "text/plain": [
       "120"
      ]
     },
     "execution_count": 54,
     "metadata": {},
     "output_type": "execute_result"
    }
   ],
   "source": [
    "#4. Write a recursive function to find the product of numbers up to n. Get the\n",
    "#value of n from user\n",
    "\n",
    "def product(n):\n",
    "    if n==1: return(1) #we have to stop when \n",
    "    else:\n",
    "        return(n*product(n-1))\n",
    "product(5)\n"
   ]
  },
  {
   "cell_type": "code",
   "execution_count": null,
   "id": "ce88bdcf",
   "metadata": {},
   "outputs": [],
   "source": [
    "#5. Write a function to print the even numbers in a list, Pass the list as function\n",
    "#parameter"
   ]
  },
  {
   "cell_type": "code",
   "execution_count": 56,
   "id": "5f893298",
   "metadata": {},
   "outputs": [
    {
     "data": {
      "text/plain": [
       "[2, 4, 6]"
      ]
     },
     "execution_count": 56,
     "metadata": {},
     "output_type": "execute_result"
    }
   ],
   "source": [
    "list1=[2,3,4,5,6,7]\n",
    "def even(x):\n",
    "    list2=[]\n",
    "    for i in x:\n",
    "        if i%2==0:\n",
    "            list2.append(i)\n",
    "    return(list2)\n",
    "\n",
    "even(list1)"
   ]
  },
  {
   "cell_type": "code",
   "execution_count": null,
   "id": "e289b8bc",
   "metadata": {},
   "outputs": [],
   "source": [
    "#6. Write a recursive function to find the multiplication table of number passed\n",
    "#by the user"
   ]
  },
  {
   "cell_type": "code",
   "execution_count": 61,
   "id": "1e85bca5",
   "metadata": {},
   "outputs": [
    {
     "name": "stdout",
     "output_type": "stream",
     "text": [
      "enter the number5\n"
     ]
    },
    {
     "data": {
      "text/plain": [
       "(5, 'x', <function __main__.<listcomp>.<lambda>(i=1)>)"
      ]
     },
     "execution_count": 61,
     "metadata": {},
     "output_type": "execute_result"
    }
   ],
   "source": [
    "n=int(input('enter the number'))\n",
    "def product(n,i):\n",
    "    if i==1: return(1) #we have to stop when \n",
    "    else:\n",
    "        return(n,'x',i)\n",
    "product(n,i)\n"
   ]
  },
  {
   "cell_type": "code",
   "execution_count": null,
   "id": "c87020bd",
   "metadata": {},
   "outputs": [],
   "source": []
  }
 ],
 "metadata": {
  "kernelspec": {
   "display_name": "Python 3 (ipykernel)",
   "language": "python",
   "name": "python3"
  },
  "language_info": {
   "codemirror_mode": {
    "name": "ipython",
    "version": 3
   },
   "file_extension": ".py",
   "mimetype": "text/x-python",
   "name": "python",
   "nbconvert_exporter": "python",
   "pygments_lexer": "ipython3",
   "version": "3.9.13"
  }
 },
 "nbformat": 4,
 "nbformat_minor": 5
}
