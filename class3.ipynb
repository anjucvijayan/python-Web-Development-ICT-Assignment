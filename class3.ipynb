{
 "cells": [
  {
   "cell_type": "markdown",
   "id": "0af0dd64",
   "metadata": {},
   "source": [
    "# Flow Control"
   ]
  },
  {
   "cell_type": "markdown",
   "id": "fb8bf58c",
   "metadata": {},
   "source": [
    "conditional statements"
   ]
  },
  {
   "cell_type": "code",
   "execution_count": 1,
   "id": "1dc8cb23",
   "metadata": {},
   "outputs": [
    {
     "name": "stdout",
     "output_type": "stream",
     "text": [
      "enter the money you have :15000\n",
      "show me other one\n"
     ]
    }
   ],
   "source": [
    "price_tv=20000\n",
    "money=int(input('enter the money you have :'))\n",
    "if price_tv<=money:\n",
    "    print('please pack it')\n",
    "else:\n",
    "    print('show me other one')"
   ]
  },
  {
   "cell_type": "code",
   "execution_count": 2,
   "id": "b444719e",
   "metadata": {},
   "outputs": [],
   "source": [
    "#get a number from user print even/odd"
   ]
  },
  {
   "cell_type": "code",
   "execution_count": 3,
   "id": "eaaabcf7",
   "metadata": {},
   "outputs": [
    {
     "name": "stdout",
     "output_type": "stream",
     "text": [
      "enter the number8\n",
      "even\n"
     ]
    }
   ],
   "source": [
    "number=int(input('enter the number'))\n",
    "if number==0:\n",
    "    print('neither odd or even')\n",
    "elif number%2==0:\n",
    "    print('even')\n",
    "else:\n",
    "    print('odd')"
   ]
  },
  {
   "cell_type": "code",
   "execution_count": 4,
   "id": "a6d72051",
   "metadata": {},
   "outputs": [
    {
     "name": "stdout",
     "output_type": "stream",
     "text": [
      "enter the number to check negative or positive-8\n",
      "negative\n"
     ]
    }
   ],
   "source": [
    "number=int(input('enter the number to check negative or positive'))\n",
    "if  number==0:\n",
    "    print('neither negative nor positive')\n",
    "elif number <0:\n",
    "    print('negative')\n",
    "else:\n",
    "    print('positive')"
   ]
  },
  {
   "cell_type": "code",
   "execution_count": 5,
   "id": "77bfdb12",
   "metadata": {},
   "outputs": [],
   "source": [
    "#larger of two number"
   ]
  },
  {
   "cell_type": "code",
   "execution_count": 6,
   "id": "771d2145",
   "metadata": {},
   "outputs": [
    {
     "name": "stdout",
     "output_type": "stream",
     "text": [
      "enter the numbers :5 6\n",
      "6 is larger than 5\n"
     ]
    }
   ],
   "source": [
    "x,y=map(int,input('enter the numbers :').split(' '))\n",
    "if x>y:\n",
    "    print('{} is larger than {}'.format(x,y))\n",
    "elif x<y:\n",
    "    print('{} is larger than {}'.format(y,x))\n",
    "else:\n",
    "    print('{} is equal to {}'.format(x,y))\n"
   ]
  },
  {
   "cell_type": "code",
   "execution_count": 7,
   "id": "6c7292a7",
   "metadata": {},
   "outputs": [
    {
     "name": "stdout",
     "output_type": "stream",
     "text": [
      "enter the numbers :6 7 8 6\n"
     ]
    }
   ],
   "source": [
    "x=list(map(int,input('enter the numbers :').split(' ')))"
   ]
  },
  {
   "cell_type": "code",
   "execution_count": 8,
   "id": "81210cc6",
   "metadata": {},
   "outputs": [
    {
     "data": {
      "text/plain": [
       "list"
      ]
     },
     "execution_count": 8,
     "metadata": {},
     "output_type": "execute_result"
    }
   ],
   "source": [
    "type(x)"
   ]
  },
  {
   "cell_type": "code",
   "execution_count": 9,
   "id": "1892c5ca",
   "metadata": {},
   "outputs": [
    {
     "data": {
      "text/plain": [
       "[6, 7, 8, 6]"
      ]
     },
     "execution_count": 9,
     "metadata": {},
     "output_type": "execute_result"
    }
   ],
   "source": [
    "x"
   ]
  },
  {
   "cell_type": "code",
   "execution_count": 10,
   "id": "af531a71",
   "metadata": {},
   "outputs": [],
   "source": [
    "#take 3 numbers from user print largest"
   ]
  },
  {
   "cell_type": "code",
   "execution_count": 11,
   "id": "e7295131",
   "metadata": {},
   "outputs": [
    {
     "name": "stdout",
     "output_type": "stream",
     "text": [
      "Enter 3 numbers 5 6 7\n",
      "largest number is  7\n"
     ]
    }
   ],
   "source": [
    "x,y,z=map(int,input('Enter 3 numbers ').split())\n",
    "largest=max(x,y,z)\n",
    "print('largest number is ',largest)\n"
   ]
  },
  {
   "cell_type": "code",
   "execution_count": 12,
   "id": "d9fe88d5",
   "metadata": {},
   "outputs": [
    {
     "name": "stdout",
     "output_type": "stream",
     "text": [
      "Enter 3 numbers 7 6 5\n",
      "7 is largest\n"
     ]
    }
   ],
   "source": [
    "x,y,z=map(int,input('Enter 3 numbers ').split())\n",
    "if x>y and x>z:\n",
    "    print(x, 'is largest')\n",
    "elif y>x and y>z:\n",
    "    print(y, 'is largest')\n",
    "else:\n",
    "    print(z, 'is largest')"
   ]
  },
  {
   "cell_type": "code",
   "execution_count": 13,
   "id": "3e8bf589",
   "metadata": {},
   "outputs": [],
   "source": [
    "#check wheter the string is palindrome or not "
   ]
  },
  {
   "cell_type": "code",
   "execution_count": 14,
   "id": "6525efa6",
   "metadata": {},
   "outputs": [
    {
     "name": "stdout",
     "output_type": "stream",
     "text": [
      "enter the string malayalam\n",
      "palidrome\n"
     ]
    }
   ],
   "source": [
    "string=str(input('enter the string '))\n",
    "string=string.lower()\n",
    "rev=string[::-1]\n",
    "if string==rev:\n",
    "    print('palidrome')\n",
    "else:\n",
    "    print('not a palindrome')"
   ]
  },
  {
   "cell_type": "code",
   "execution_count": 15,
   "id": "8de21dbe",
   "metadata": {},
   "outputs": [],
   "source": [
    "#check wheter the first litter is capital"
   ]
  },
  {
   "cell_type": "code",
   "execution_count": 16,
   "id": "9295a108",
   "metadata": {},
   "outputs": [
    {
     "name": "stdout",
     "output_type": "stream",
     "text": [
      "enter the string maya\n",
      "not capital\n"
     ]
    }
   ],
   "source": [
    "string=str(input('enter the string '))\n",
    "first_letter=string[0]\n",
    "if first_letter.isupper():\n",
    "    print('capital letter')\n",
    "else:\n",
    "    print('not capital')"
   ]
  },
  {
   "cell_type": "code",
   "execution_count": 17,
   "id": "0dea1549",
   "metadata": {},
   "outputs": [
    {
     "data": {
      "text/plain": [
       "True"
      ]
     },
     "execution_count": 17,
     "metadata": {},
     "output_type": "execute_result"
    }
   ],
   "source": [
    "name='Maya mohan'\n",
    "name[0].istitle()"
   ]
  },
  {
   "cell_type": "code",
   "execution_count": 18,
   "id": "9a7dd5c0",
   "metadata": {},
   "outputs": [],
   "source": [
    "#user to input a string"
   ]
  },
  {
   "cell_type": "code",
   "execution_count": 19,
   "id": "0a6368cc",
   "metadata": {},
   "outputs": [
    {
     "name": "stdout",
     "output_type": "stream",
     "text": [
      "how do you feel todayfine\n",
      "string entered is  fine\n"
     ]
    }
   ],
   "source": [
    "entry1=input('how do you feel today')\n",
    "if (entry1):\n",
    "    print('string entered is ',entry1)\n",
    "else:\n",
    "    print('empty string')"
   ]
  },
  {
   "cell_type": "markdown",
   "id": "95f7375d",
   "metadata": {},
   "source": [
    "a company decided to give bonus 5% to employee if tenure>5 years"
   ]
  },
  {
   "cell_type": "code",
   "execution_count": 21,
   "id": "80c29183",
   "metadata": {},
   "outputs": [
    {
     "name": "stdout",
     "output_type": "stream",
     "text": [
      "Enter the salary : 5000\n",
      "enter the years of experience :2\n",
      "Not eligible for bonus\n"
     ]
    }
   ],
   "source": [
    "salary=int(input('Enter the salary : '))\n",
    "years_of_experience=int(input('enter the years of experience :'))\n",
    "if years_of_experience<5:\n",
    "    print('Not eligible for bonus')\n",
    "else:\n",
    "    bonus=salary+(salary*.05)\n",
    "    print(bonus)\n"
   ]
  },
  {
   "cell_type": "markdown",
   "id": "50a3138e",
   "metadata": {},
   "source": [
    "1. Given the participants' score sheet for your University Sports Day, you are required to\n",
    "find the runner-up score. You are given scores. Store them in a list and find the score of\n",
    "the runner-up. (Create an array of scores and print the runner up score)"
   ]
  },
  {
   "cell_type": "code",
   "execution_count": 39,
   "id": "7b4e5d8c",
   "metadata": {},
   "outputs": [
    {
     "name": "stdout",
     "output_type": "stream",
     "text": [
      "enter the scores :1 5 4 8 10 3\n",
      "Runner_up score is 8\n"
     ]
    }
   ],
   "source": [
    "scores=map(int,input('enter the scores :').split())\n",
    "list1=list(scores)\n",
    "list1=sorted(list1)\n",
    "runner_up=list1[-2]\n",
    "print('Runner_up score is',runner_up)\n"
   ]
  },
  {
   "cell_type": "code",
   "execution_count": 1,
   "id": "94b108cd",
   "metadata": {},
   "outputs": [
    {
     "name": "stdout",
     "output_type": "stream",
     "text": [
      "enter the scores :2 4 5 6 7 8\n",
      "7\n"
     ]
    }
   ],
   "source": [
    "#use set\n",
    "score=map(int,input('enter the scores :').split())\n",
    "sc_set=set(score)\n",
    "top=max(sc_set)\n",
    "sc_set.remove(top)\n",
    "print(max(sc_set))"
   ]
  },
  {
   "cell_type": "markdown",
   "id": "fb3c587c",
   "metadata": {},
   "source": [
    "2. Get two sets from user if they have common elements print the intersection of set else\n",
    "print the union of two sets."
   ]
  },
  {
   "cell_type": "code",
   "execution_count": 5,
   "id": "2a53a3a3",
   "metadata": {},
   "outputs": [
    {
     "name": "stdout",
     "output_type": "stream",
     "text": [
      "enter the elements of set 1 : 1 2 3 4 5 6\n",
      "enter the elements of set 2 : 7 8 9 5 4\n",
      "{4, 5}\n",
      "{4, 5}\n",
      "{1, 2, 3, 4, 5, 6, 7, 8, 9}\n"
     ]
    }
   ],
   "source": [
    "# set1=input('enter the elements of set 1 : ')\n",
    "# set2=input('enter the elements of set 2 : ')\n",
    "# set1=set(int(item) for item in set1.split())\n",
    "# set2=set(int(item) for item in set2.split())\n",
    "# for i in set1:\n",
    "#     if i in set2:\n",
    "#         #print(i)\n",
    "#         intersection=set1.intersection(set2)\n",
    "#         print(intersection)\n",
    "#     else:\n",
    "#         union=set1.union(set2)\n",
    "# #print(intersection)\n",
    "# print(union)\n",
    "# #print(set1)"
   ]
  },
  {
   "cell_type": "code",
   "execution_count": 2,
   "id": "0f93e257",
   "metadata": {},
   "outputs": [
    {
     "name": "stdout",
     "output_type": "stream",
     "text": [
      "{8, 5, 6}\n"
     ]
    }
   ],
   "source": [
    "s1={5,6,8,9,4,7}\n",
    "s2={6,3,22,5,8}\n",
    "if s1.isdisjoint(s2):\n",
    "    s_u=s1.union(s2)\n",
    "    print(s_u)\n",
    "else:\n",
    "    s_i=s1.intersection(s2)\n",
    "    print(s_i)"
   ]
  },
  {
   "cell_type": "markdown",
   "id": "b8541787",
   "metadata": {},
   "source": [
    "3. A dictionary is given\n",
    "D={‘John’ :[25,32,43],’Peter’:[87,55,96],’Ram’:[58,55,43],’Meena’:[63,79,85]}\n",
    "Get a name from user if the name in the dictionary change the values corresponding to\n",
    "that user to [88,77,99] and print the dictionary. Else print ‘Name not found’."
   ]
  },
  {
   "cell_type": "code",
   "execution_count": null,
   "id": "a58517b4",
   "metadata": {},
   "outputs": [],
   "source": [
    "D={'John':[25,32,43],'Peter':[87,55,96],'Ram':[58,55,43],'Meena':[63,79,85]}"
   ]
  },
  {
   "cell_type": "code",
   "execution_count": null,
   "id": "f5bb3cfd",
   "metadata": {},
   "outputs": [],
   "source": [
    "name=input('enter the name')\n",
    "if name in D:\n",
    "    D[name]=[88,77,99]\n",
    "    print(D)\n",
    "else:\n",
    "    print('Name not found')"
   ]
  },
  {
   "cell_type": "markdown",
   "id": "9c3d9c08",
   "metadata": {},
   "source": [
    "4. Get a string from user and print the characters in the even index positions"
   ]
  },
  {
   "cell_type": "code",
   "execution_count": 6,
   "id": "8c23bf64",
   "metadata": {},
   "outputs": [
    {
     "name": "stdout",
     "output_type": "stream",
     "text": [
      "Enter the stringmalayalam\n",
      "m\n",
      "l\n",
      "y\n",
      "l\n",
      "m\n"
     ]
    }
   ],
   "source": [
    "string=str(input('Enter the string'))\n",
    "for i in range(len(string )):\n",
    "    if i%2==0:\n",
    "        print(string[i])\n"
   ]
  },
  {
   "cell_type": "code",
   "execution_count": 7,
   "id": "b66327aa",
   "metadata": {},
   "outputs": [
    {
     "name": "stdout",
     "output_type": "stream",
     "text": [
      "malayalam\n",
      "mlylm\n"
     ]
    }
   ],
   "source": [
    "s=input()\n",
    "print(s[::2])"
   ]
  },
  {
   "cell_type": "markdown",
   "id": "52a389df",
   "metadata": {},
   "source": [
    "5. Take input of age of 3 people by user and determine oldest and youngest among them."
   ]
  },
  {
   "cell_type": "code",
   "execution_count": null,
   "id": "e40e51e5",
   "metadata": {},
   "outputs": [],
   "source": [
    "x,y,z=map(int,input('Enter 3 numbers ').split())\n",
    "oldest=max(x,y,z)\n",
    "youngest=min(x,y,z)\n",
    "print('oldest person :',oldest)\n",
    "print('youngest person :',youngest)"
   ]
  },
  {
   "cell_type": "code",
   "execution_count": null,
   "id": "a6d6b5ff",
   "metadata": {},
   "outputs": [],
   "source": []
  },
  {
   "cell_type": "code",
   "execution_count": null,
   "id": "11fc8043",
   "metadata": {},
   "outputs": [],
   "source": []
  }
 ],
 "metadata": {
  "kernelspec": {
   "display_name": "Python 3 (ipykernel)",
   "language": "python",
   "name": "python3"
  },
  "language_info": {
   "codemirror_mode": {
    "name": "ipython",
    "version": 3
   },
   "file_extension": ".py",
   "mimetype": "text/x-python",
   "name": "python",
   "nbconvert_exporter": "python",
   "pygments_lexer": "ipython3",
   "version": "3.9.13"
  }
 },
 "nbformat": 4,
 "nbformat_minor": 5
}
