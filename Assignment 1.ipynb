{
 "cells": [
  {
   "cell_type": "markdown",
   "id": "6f9cf38e",
   "metadata": {},
   "source": [
    "# Python Practice Problems"
   ]
  },
  {
   "cell_type": "markdown",
   "id": "c0c4335f",
   "metadata": {},
   "source": [
    "1. Write a Python Program to accept the details of a student like name, roll number \n",
    "and mark and display it.\n",
    "Sample input: Enter the name: Anisha\n",
    "Enter the roll number: 21\n",
    "Enter the mark: 78\n",
    "Sample output: \n",
    "Name: Anisha\n",
    "Roll No: 21\n",
    "Mark: 78"
   ]
  },
  {
   "cell_type": "code",
   "execution_count": 1,
   "id": "b88848a0",
   "metadata": {},
   "outputs": [
    {
     "name": "stdout",
     "output_type": "stream",
     "text": [
      "Enter the name: Anisha\n",
      "Enter the roll number: 21\n",
      "Enter the mark: 78\n",
      "-------------------------------------\n",
      "Name : Anisha\n",
      "Roll_no : 21\n",
      "Mark : 78\n"
     ]
    }
   ],
   "source": [
    "name=input('Enter the name: ')\n",
    "roll_no=int(input('Enter the roll number: '))\n",
    "mark=int(input('Enter the mark: '))\n",
    "print('-------------------------------------')\n",
    "print('Name :',name)\n",
    "print('Roll_no :',roll_no)\n",
    "print('Mark :',mark)"
   ]
  },
  {
   "cell_type": "markdown",
   "id": "148dac5c",
   "metadata": {},
   "source": [
    "2. Write a Python program to convert temperatures to and from Celsius \n",
    "Fahrenheit. [Formula: c/5=f-32/9 where c=temperature in Celsius and f= \n",
    "temperature in Fahrenheit.] Sample input: Temperature in Fahrenheit =41 \n",
    "Sample output: Temperature in Celsius =5"
   ]
  },
  {
   "cell_type": "code",
   "execution_count": 2,
   "id": "2b7c6c8e",
   "metadata": {},
   "outputs": [
    {
     "name": "stdout",
     "output_type": "stream",
     "text": [
      "Temperature in Fahrenheit: 41\n",
      "Temperature in Celsius=  5.0\n"
     ]
    }
   ],
   "source": [
    "f=int(input('Temperature in Fahrenheit: '))\n",
    "c=((f-32)/9)*5\n",
    "print('Temperature in Celsius= ',c)"
   ]
  },
  {
   "cell_type": "markdown",
   "id": "3042d02d",
   "metadata": {},
   "source": [
    "3. 1. Write a Python program to accept two numbers from the user and display\n",
    "its product."
   ]
  },
  {
   "cell_type": "code",
   "execution_count": 3,
   "id": "79d6ee98",
   "metadata": {},
   "outputs": [
    {
     "name": "stdout",
     "output_type": "stream",
     "text": [
      "Enter two numbers x,y : 5 4\n",
      "x*y =  20\n"
     ]
    }
   ],
   "source": [
    "x,y=[int(x) for x in input('Enter two numbers x,y : ').split()]\n",
    "print('x*y = ',x*y)"
   ]
  },
  {
   "cell_type": "markdown",
   "id": "601466de",
   "metadata": {},
   "source": [
    "4. Write a Python program to accept a string “Learn Python by Developing a\n",
    "Website” and display the string like “Learn**Python** by Developing a\n",
    "**Website**"
   ]
  },
  {
   "cell_type": "code",
   "execution_count": 4,
   "id": "30954225",
   "metadata": {},
   "outputs": [
    {
     "name": "stdout",
     "output_type": "stream",
     "text": [
      "enter the input stringLearn python by Developing a website\n"
     ]
    },
    {
     "data": {
      "text/plain": [
       "'Learn**python**by Developing a**website**'"
      ]
     },
     "execution_count": 4,
     "metadata": {},
     "output_type": "execute_result"
    }
   ],
   "source": [
    "string=input('enter the input string')\n",
    "string=string[0:5] +'**'+string[6:12]+'**'+string[13:28]+'**'+string[29:36]+'**'\n",
    "string"
   ]
  },
  {
   "cell_type": "markdown",
   "id": "8d748244",
   "metadata": {},
   "source": [
    "5. Write a Python program to accept the radius of a circle and display its area"
   ]
  },
  {
   "cell_type": "code",
   "execution_count": 5,
   "id": "43a5b756",
   "metadata": {},
   "outputs": [
    {
     "name": "stdout",
     "output_type": "stream",
     "text": [
      "enter the radius of circle4\n",
      "area = 50.27\n"
     ]
    }
   ],
   "source": [
    "#circle\n",
    "\n",
    "import math\n",
    "\n",
    "r=int(input('enter the radius of circle'))\n",
    "area=math.pi*r**2\n",
    "print('area =',round(area,2))"
   ]
  },
  {
   "cell_type": "markdown",
   "id": "d51cf47f",
   "metadata": {},
   "source": [
    "6. Python program to insert a number to any position in a list (Get the number to \n",
    "be inserted and position from the user"
   ]
  },
  {
   "cell_type": "code",
   "execution_count": 6,
   "id": "4ef61d8e",
   "metadata": {},
   "outputs": [
    {
     "name": "stdout",
     "output_type": "stream",
     "text": [
      "enter the number to be inserted: 3\n"
     ]
    },
    {
     "data": {
      "text/plain": [
       "[1, 2, 3, 4, 5, 6, 7, 8, 9]"
      ]
     },
     "execution_count": 6,
     "metadata": {},
     "output_type": "execute_result"
    }
   ],
   "source": [
    "list=[1,2,4,5,6,7,8,9]\n",
    "n=int(input('enter the number to be inserted: '))\n",
    "list.insert(2,n)\n",
    "list"
   ]
  },
  {
   "cell_type": "markdown",
   "id": "78994b01",
   "metadata": {},
   "source": [
    "7. Write a program to rename a key city to a location in the following dictionary.\n",
    "sample_dict = { \"name\": \"John\", \"age\":5, \"salary\": 8000, \"city\": \"New York\"}"
   ]
  },
  {
   "cell_type": "code",
   "execution_count": 11,
   "id": "dbcde2a9",
   "metadata": {},
   "outputs": [
    {
     "data": {
      "text/plain": [
       "{'name': 'John', 'age': 5, 'salary': 8000, 'location': 'New York'}"
      ]
     },
     "execution_count": 11,
     "metadata": {},
     "output_type": "execute_result"
    }
   ],
   "source": [
    "sample_dict = { \"name\": \"John\", \"age\":5, \"salary\": 8000, \"city\": \"New York\"}\n",
    "sample_dict['location']=sample_dict['city']\n",
    "del sample_dict['city']\n",
    "sample_dict"
   ]
  },
  {
   "cell_type": "markdown",
   "id": "ecc934af",
   "metadata": {},
   "source": [
    "8. Write a Python program to change Brad’s salary to 8500 in the following \n",
    "dictionary.\n",
    "sample_dict = {\n",
    "'emp1': {'name': 'John', 'salary': 7500},\n",
    "'emp2': {'name': 'Emma', 'salary': 8000},\n",
    "'emp3': {'name': 'Brad', 'salary': 500}\n",
    "}\n"
   ]
  },
  {
   "cell_type": "code",
   "execution_count": 12,
   "id": "51263f8b",
   "metadata": {},
   "outputs": [
    {
     "data": {
      "text/plain": [
       "{'emp1': {'name': 'John', 'salary': 7500},\n",
       " 'emp2': {'name': 'Emma', 'salary': 8000},\n",
       " 'emp3': {'name': 'Brad', 'salary': 8500}}"
      ]
     },
     "execution_count": 12,
     "metadata": {},
     "output_type": "execute_result"
    }
   ],
   "source": [
    "sample_dict = { 'emp1': {'name': 'John', 'salary': 7500}, 'emp2': {'name': 'Emma', 'salary': 8000}, 'emp3': {'name': 'Brad', 'salary': 500} }\n",
    "sample_dict['emp3']['salary']=8500\n",
    "sample_dict"
   ]
  },
  {
   "cell_type": "markdown",
   "id": "32d03577",
   "metadata": {},
   "source": [
    "9. Write a program to copy elements 43 and 54 from the following tuple into a \n",
    "new tuple. Given:\n",
    "tuple1 = (10, 20, 43, 54, 56, 68)"
   ]
  },
  {
   "cell_type": "code",
   "execution_count": 13,
   "id": "69f237cf",
   "metadata": {},
   "outputs": [
    {
     "data": {
      "text/plain": [
       "(43, 54)"
      ]
     },
     "execution_count": 13,
     "metadata": {},
     "output_type": "execute_result"
    }
   ],
   "source": [
    "tuple1 = (10, 20, 43, 54, 56, 68)\n",
    "tuple2=tuple1[2:4]\n",
    "tuple2"
   ]
  },
  {
   "cell_type": "markdown",
   "id": "104991fa",
   "metadata": {},
   "source": [
    "10. Counts the number of occurrences of item 50 from a tuple\n",
    "tuple1 = (50, 10, 60, 70, 50,83,567,50,81"
   ]
  },
  {
   "cell_type": "code",
   "execution_count": 14,
   "id": "eaf9f3a5",
   "metadata": {},
   "outputs": [
    {
     "data": {
      "text/plain": [
       "3"
      ]
     },
     "execution_count": 14,
     "metadata": {},
     "output_type": "execute_result"
    }
   ],
   "source": [
    "tuple1 = (50, 10, 60, 70, 50,83,567,50,81)\n",
    "tuple1.count(50)"
   ]
  },
  {
   "cell_type": "code",
   "execution_count": null,
   "id": "2c4aee9e",
   "metadata": {},
   "outputs": [],
   "source": []
  }
 ],
 "metadata": {
  "kernelspec": {
   "display_name": "Python 3 (ipykernel)",
   "language": "python",
   "name": "python3"
  },
  "language_info": {
   "codemirror_mode": {
    "name": "ipython",
    "version": 3
   },
   "file_extension": ".py",
   "mimetype": "text/x-python",
   "name": "python",
   "nbconvert_exporter": "python",
   "pygments_lexer": "ipython3",
   "version": "3.9.13"
  }
 },
 "nbformat": 4,
 "nbformat_minor": 5
}
