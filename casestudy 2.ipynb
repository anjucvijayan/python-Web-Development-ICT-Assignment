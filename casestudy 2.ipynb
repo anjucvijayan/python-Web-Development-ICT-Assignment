{
 "cells": [
  {
   "cell_type": "markdown",
   "id": "c6508622",
   "metadata": {},
   "source": [
    "1. Write a Python function to sum all the numbers in a list.(Create a list and \n",
    "get list elements from user)\n"
   ]
  },
  {
   "cell_type": "code",
   "execution_count": 1,
   "id": "3c85b7b9",
   "metadata": {},
   "outputs": [
    {
     "name": "stdout",
     "output_type": "stream",
     "text": [
      "Enter the number of elements : 5\n",
      "Enter the elements : 2 3 4 5 6\n",
      "20\n"
     ]
    }
   ],
   "source": [
    "\n",
    "def sum_list(list1):\n",
    "    sum1=0\n",
    "    for x in list1:\n",
    "        sum1=sum1+x\n",
    "    return sum1\n",
    "    \n",
    "n=int(input('Enter the number of elements : '))\n",
    "list1=list(map(int,input('Enter the elements : ').split()))\n",
    "\n",
    "print(sum_list(list1))\n"
   ]
  },
  {
   "cell_type": "markdown",
   "id": "811bfcff",
   "metadata": {},
   "source": [
    "2. Write a Python function that checks whether a passed string is \n",
    "palindrome or not."
   ]
  },
  {
   "cell_type": "code",
   "execution_count": 2,
   "id": "0ecafd83",
   "metadata": {},
   "outputs": [
    {
     "name": "stdout",
     "output_type": "stream",
     "text": [
      "enter the stringmalayalam\n",
      "palindrome\n"
     ]
    }
   ],
   "source": [
    "def palindrome(str1):\n",
    "    if str1==str1[::-1]:\n",
    "        print('palindrome')\n",
    "    else:\n",
    "        print('not palindrome')\n",
    "str1=input('enter the string')\n",
    "palindrome(str1)    "
   ]
  },
  {
   "cell_type": "markdown",
   "id": "021c5c02",
   "metadata": {},
   "source": [
    "3. Write a Python recursive function to find the Fibonacci series. Get the limit \n",
    "from the user"
   ]
  },
  {
   "cell_type": "code",
   "execution_count": 3,
   "id": "7e14c9db",
   "metadata": {},
   "outputs": [
    {
     "name": "stdout",
     "output_type": "stream",
     "text": [
      "enter the limit10\n",
      "0\n",
      "1\n",
      "1\n",
      "2\n",
      "3\n",
      "5\n",
      "8\n",
      "13\n",
      "21\n",
      "34\n"
     ]
    }
   ],
   "source": [
    "def fibo(n):\n",
    "    if n<=1:\n",
    "        return n\n",
    "    else:\n",
    "        return(fibo(n-1)+fibo(n-2))\n",
    "n=int(input('enter the limit'))\n",
    "for i in range(n):\n",
    "    print(fibo(i))"
   ]
  },
  {
   "cell_type": "markdown",
   "id": "74772d64",
   "metadata": {},
   "source": [
    "4. Write a Python recursive function to print the multiplication table of \n",
    "given number"
   ]
  },
  {
   "cell_type": "code",
   "execution_count": 4,
   "id": "8f369729",
   "metadata": {},
   "outputs": [
    {
     "name": "stdout",
     "output_type": "stream",
     "text": [
      "enter the number : 10\n",
      "10 * 1 = 10\n",
      "10 * 2 = 20\n",
      "10 * 3 = 30\n",
      "10 * 4 = 40\n",
      "10 * 5 = 50\n",
      "10 * 6 = 60\n",
      "10 * 7 = 70\n",
      "10 * 8 = 80\n",
      "10 * 9 = 90\n",
      "10 * 10 = 100\n"
     ]
    }
   ],
   "source": [
    "def table(n,i):\n",
    "    if i >10:\n",
    "        return\n",
    "    print(n,'*',i,'=',n*i)\n",
    "    \n",
    "    return table(n,i+1)\n",
    "\n",
    "n=int(input('enter the number : '))\n",
    "table(n,1)\n",
    "    "
   ]
  },
  {
   "cell_type": "markdown",
   "id": "7f5b3e87",
   "metadata": {},
   "source": [
    "5. Define a function which counts vowels and consonant in a word."
   ]
  },
  {
   "cell_type": "code",
   "execution_count": 5,
   "id": "d6d079d6",
   "metadata": {},
   "outputs": [
    {
     "name": "stdout",
     "output_type": "stream",
     "text": [
      "enter the word : Apple\n",
      "2\n",
      "3\n"
     ]
    }
   ],
   "source": [
    "word=input('enter the word : ')\n",
    "vowels=['a','e','i','o','u']\n",
    "vowel=[]\n",
    "consonant=[]\n",
    "def countvowels(word):\n",
    "    for i in word:\n",
    "        i=i.lower()\n",
    "        if i in vowels:\n",
    "            vowel.append(i)\n",
    "        else:\n",
    "            consonant.append(i)\n",
    "        \n",
    "        \n",
    "countvowels(word)\n",
    "print(len(vowel))\n",
    "print(len(consonant))"
   ]
  },
  {
   "cell_type": "markdown",
   "id": "26c2fa6e",
   "metadata": {},
   "source": [
    "6. Define a function that accepts lowercase words and returns uppercase \n",
    "words"
   ]
  },
  {
   "cell_type": "code",
   "execution_count": 6,
   "id": "c023e534",
   "metadata": {},
   "outputs": [
    {
     "name": "stdout",
     "output_type": "stream",
     "text": [
      "enter the word :Apple\n"
     ]
    },
    {
     "data": {
      "text/plain": [
       "'enter word in lower case'"
      ]
     },
     "execution_count": 6,
     "metadata": {},
     "output_type": "execute_result"
    }
   ],
   "source": [
    "\n",
    "def toupper(word):\n",
    "    for i in word:\n",
    "        if i.isupper()==1:\n",
    "            return 'enter word in lower case'\n",
    "        else:\n",
    "            return word.upper()\n",
    "                        \n",
    "word=input('enter the word :')            \n",
    "toupper(word)\n",
    "\n",
    "            "
   ]
  },
  {
   "cell_type": "markdown",
   "id": "500098d5",
   "metadata": {},
   "source": [
    "7. Write a Python program to remove ‘None’ values from a given list using \n",
    "the lambda function.\n",
    "Given input = [12, 0, None, 23, None, -55, 234, 89, None, 0, 6, -12]\n",
    "Expected output = [12, 0, 23, -55, 234, 89, 0, 6, -12]"
   ]
  },
  {
   "cell_type": "code",
   "execution_count": 7,
   "id": "bae58e18",
   "metadata": {},
   "outputs": [
    {
     "data": {
      "text/plain": [
       "[12, 0, 23, -55, 234, 89, 0, 6, -12]"
      ]
     },
     "execution_count": 7,
     "metadata": {},
     "output_type": "execute_result"
    }
   ],
   "source": [
    "input1 = [12, 0, None, 23, None, -55, 234, 89, None, 0, 6, -12]\n",
    "def removenone(input1):\n",
    "    result=filter(lambda v:v is not None,input1)\n",
    "    return list(result)\n",
    "\n",
    "removenone(input1)"
   ]
  },
  {
   "cell_type": "markdown",
   "id": "510ebd18",
   "metadata": {},
   "source": [
    "8. Write a Rectangle class in Python language, allowing you to build a \n",
    "rectangle with length and width attributes.\n",
    "a. Create a Perimeter() method to calculate the perimeter of the \n",
    "rectangle and a Area() method to calculate the area of the rectangle.\n",
    "b. Create a method display() that display the length, width, perimeter \n",
    "and area of an object created using an instantiation on rectangle \n",
    "class.\n",
    "c. Create a Parallelepiped child class inheriting from the Rectangle \n",
    "class and with a height attribute and another Volume() method to \n",
    "calculate the volume of the Parallelepiped"
   ]
  },
  {
   "cell_type": "code",
   "execution_count": 8,
   "id": "71224f5d",
   "metadata": {},
   "outputs": [
    {
     "name": "stdout",
     "output_type": "stream",
     "text": [
      "length : 3\n",
      "width : 2\n",
      "perimeter : 10\n",
      "area : 6\n",
      "volume  18\n"
     ]
    }
   ],
   "source": [
    "class Rectangle():\n",
    "    def __init__(self,l,w):\n",
    "        self.length=l\n",
    "        self.width=w\n",
    "    def perimeter(self):\n",
    "        peri=2*(self.length+self.width)\n",
    "        return peri\n",
    "    def area(self):\n",
    "        are=self.length*self.width\n",
    "        return are\n",
    "    def display(self):\n",
    "        print('length :',self.length)\n",
    "        print('width :',self.width)\n",
    "        print('perimeter :',self.perimeter())\n",
    "        print('area :',self.area())\n",
    "        \n",
    "class Parallelepipede(Rectangle):\n",
    "    def __init__(self, length, width , height):\n",
    "        Rectangle.__init__(self, length, width)\n",
    "        self.height = height\n",
    "        \n",
    "    def volume(self):\n",
    "        vol=self.length*self.width*self.height\n",
    "        return vol\n",
    "obj=Rectangle(3,2)\n",
    "obj1=Parallelepipede(3,2,3)\n",
    "obj.display()\n",
    "print('volume ',obj1.volume())"
   ]
  },
  {
   "cell_type": "markdown",
   "id": "8e6cfd01",
   "metadata": {},
   "source": [
    "9. Create a Python class called BankAccount which represents a bank \n",
    "account, having as attributes: accountNumber (numeric type), name \n",
    "(name of the account owner as string type), balance.\n",
    "a. Create a constructor with parameters: accountNumber, name, \n",
    "balance.\n",
    "b. Create a Deposit() method which manages the deposit actions.\n",
    "c. Create a Withdrawal() method which manages withdrawals \n",
    "actions.\n",
    "d. Create an bankFees() method to apply the bank fees with a \n",
    "percentage of 5% of the balance account.\n",
    "e. Create a display() method to display account details.\n",
    "f. Give the complete code for the BankAccount class."
   ]
  },
  {
   "cell_type": "code",
   "execution_count": 9,
   "id": "cb78fff4",
   "metadata": {},
   "outputs": [
    {
     "name": "stdout",
     "output_type": "stream",
     "text": [
      "AccountNumber :  13457896543\n",
      "AccountName :  James\n",
      "Account Balance :  3050\n"
     ]
    }
   ],
   "source": [
    "class bankaccount():\n",
    "    def __init__(self,accountNumber,name,balance):\n",
    "        self.accountNumber=accountNumber\n",
    "        self.name=name\n",
    "        self.balance=balance\n",
    "    def deposit(self,d):\n",
    "        self.balance=self.balance + d\n",
    "    def withdrawal(self,w):\n",
    "        if self.balance<w:\n",
    "            print('do not have sufficient balance')\n",
    "        else:\n",
    "            self.balance=self.balance-w\n",
    "    def bankFees(self):\n",
    "        self.balance=self.balance*(95/100)\n",
    "    def display(self):\n",
    "        print('AccountNumber : ',self.accountNumber)\n",
    "        print('AccountName : ',self.name)\n",
    "        print('Account Balance : ',self.balance)\n",
    "        \n",
    "account1=bankaccount(13457896543,'James',3000)  \n",
    "account1.withdrawal(450)\n",
    "account1.deposit(500)\n",
    "account1.display()\n",
    "        \n",
    "    "
   ]
  },
  {
   "cell_type": "markdown",
   "id": "eaa2df6e",
   "metadata": {},
   "source": [
    "10. Create a base class rectangle with attributes length and breadth, methods \n",
    "area and perimeter. \n",
    "a. Save the rectangle class as a python file rectangle.py file. \n",
    "b. Open another python script and import the rectangle.py file. \n",
    "c. In the newly created script derive a child class called Parallelepiped \n",
    "class inheriting from the Rectangle class and with a height attribute \n",
    "and another Volume() method to calculate the volume of the \n",
    "Parallelepiped. \n",
    "d. Now create objects for parent class and child class in newly created \n",
    "script and access methods of parent class and child class. \n",
    "(Upload the rectangle.py file and python script of question 10 as \n",
    "separate files in github and share the link Paatshala"
   ]
  },
  {
   "cell_type": "code",
   "execution_count": 10,
   "id": "5d97ed19",
   "metadata": {},
   "outputs": [
    {
     "ename": "ModuleNotFoundError",
     "evalue": "No module named 'rectangle'",
     "output_type": "error",
     "traceback": [
      "\u001b[1;31m---------------------------------------------------------------------------\u001b[0m",
      "\u001b[1;31mModuleNotFoundError\u001b[0m                       Traceback (most recent call last)",
      "\u001b[1;32m~\\AppData\\Local\\Temp\\ipykernel_9124\\1735425508.py\u001b[0m in \u001b[0;36m<module>\u001b[1;34m\u001b[0m\n\u001b[1;32m----> 1\u001b[1;33m \u001b[1;32mfrom\u001b[0m \u001b[0mrectangle\u001b[0m \u001b[1;32mimport\u001b[0m \u001b[0mRectangle\u001b[0m\u001b[1;33m\u001b[0m\u001b[1;33m\u001b[0m\u001b[0m\n\u001b[0m\u001b[0;32m      2\u001b[0m \u001b[1;32mclass\u001b[0m \u001b[0mParallelepipede\u001b[0m\u001b[1;33m(\u001b[0m\u001b[0mRectangle\u001b[0m\u001b[1;33m)\u001b[0m\u001b[1;33m:\u001b[0m\u001b[1;33m\u001b[0m\u001b[1;33m\u001b[0m\u001b[0m\n\u001b[0;32m      3\u001b[0m     \u001b[1;32mdef\u001b[0m \u001b[0m__init__\u001b[0m\u001b[1;33m(\u001b[0m\u001b[0mself\u001b[0m\u001b[1;33m,\u001b[0m \u001b[0mlength\u001b[0m\u001b[1;33m,\u001b[0m \u001b[0mwidth\u001b[0m \u001b[1;33m,\u001b[0m \u001b[0mheight\u001b[0m\u001b[1;33m)\u001b[0m\u001b[1;33m:\u001b[0m\u001b[1;33m\u001b[0m\u001b[1;33m\u001b[0m\u001b[0m\n\u001b[0;32m      4\u001b[0m         \u001b[0mRectangle\u001b[0m\u001b[1;33m.\u001b[0m\u001b[0m__init__\u001b[0m\u001b[1;33m(\u001b[0m\u001b[0mself\u001b[0m\u001b[1;33m,\u001b[0m \u001b[0mlength\u001b[0m\u001b[1;33m,\u001b[0m \u001b[0mwidth\u001b[0m\u001b[1;33m)\u001b[0m\u001b[1;33m\u001b[0m\u001b[1;33m\u001b[0m\u001b[0m\n\u001b[0;32m      5\u001b[0m         \u001b[0mself\u001b[0m\u001b[1;33m.\u001b[0m\u001b[0mheight\u001b[0m \u001b[1;33m=\u001b[0m \u001b[0mheight\u001b[0m\u001b[1;33m\u001b[0m\u001b[1;33m\u001b[0m\u001b[0m\n",
      "\u001b[1;31mModuleNotFoundError\u001b[0m: No module named 'rectangle'"
     ]
    }
   ],
   "source": [
    "from rectangle import Rectangle\n",
    "class Parallelepipede(Rectangle):\n",
    "    def __init__(self, length, width , height):\n",
    "        Rectangle.__init__(self, length, width)\n",
    "        self.height = height\n",
    "        \n",
    "    def volume(self):\n",
    "        vol=self.length*self.width*self.height\n",
    "        return vol\n",
    "obj=Rectangle(3,2)\n",
    "obj1=Parallelepipede(3,2,3)\n",
    "obj.display()\n",
    "print('volume ',obj1.volume())"
   ]
  },
  {
   "cell_type": "code",
   "execution_count": null,
   "id": "ddf808e7",
   "metadata": {},
   "outputs": [],
   "source": []
  }
 ],
 "metadata": {
  "kernelspec": {
   "display_name": "Python 3 (ipykernel)",
   "language": "python",
   "name": "python3"
  },
  "language_info": {
   "codemirror_mode": {
    "name": "ipython",
    "version": 3
   },
   "file_extension": ".py",
   "mimetype": "text/x-python",
   "name": "python",
   "nbconvert_exporter": "python",
   "pygments_lexer": "ipython3",
   "version": "3.9.13"
  }
 },
 "nbformat": 4,
 "nbformat_minor": 5
}
