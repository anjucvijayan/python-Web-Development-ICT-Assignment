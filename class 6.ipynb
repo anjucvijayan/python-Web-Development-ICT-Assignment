{
 "cells": [
  {
   "cell_type": "markdown",
   "id": "9f22c3ab",
   "metadata": {},
   "source": [
    "# OOPS"
   ]
  },
  {
   "cell_type": "code",
   "execution_count": null,
   "id": "9952c60a",
   "metadata": {},
   "outputs": [],
   "source": [
    "#key characters\n",
    "object\n",
    "Class -collection of data in function.blue print of object.\n",
    "it has provision to hold data\n",
    "inheritance\n",
    "Encapsulation\n",
    "Polymorphism\n"
   ]
  },
  {
   "cell_type": "code",
   "execution_count": null,
   "id": "079d66ce",
   "metadata": {},
   "outputs": [],
   "source": [
    "# form -class\n",
    "# me -object\n",
    "# object is instance of class"
   ]
  },
  {
   "cell_type": "code",
   "execution_count": null,
   "id": "57fbd714",
   "metadata": {},
   "outputs": [],
   "source": [
    "#__init__ - contructor,when we create a object then init will automatically access it \n",
    "#self - is referance to current instance of atributes\n",
    "#used to access the atributes"
   ]
  },
  {
   "cell_type": "code",
   "execution_count": 5,
   "id": "e5c4d25b",
   "metadata": {},
   "outputs": [
    {
     "name": "stdout",
     "output_type": "stream",
     "text": [
      "maya Learning OOPs concept of python\n"
     ]
    }
   ],
   "source": [
    "class student: #created a class\n",
    "    def __init__(self,name): #defining class attributes\n",
    "        self.n=name\n",
    "    \n",
    "    def myfunc(self): #defining a method of this class\n",
    "        print(self.n,'Learning OOPs concept of python')\n",
    "        \n",
    "#creating an object\n",
    "maya=student('maya')\n",
    "maya.myfunc()"
   ]
  },
  {
   "cell_type": "code",
   "execution_count": 7,
   "id": "e5679c91",
   "metadata": {},
   "outputs": [
    {
     "name": "stdout",
     "output_type": "stream",
     "text": [
      "name= maya age= 5\n"
     ]
    }
   ],
   "source": [
    "class student: #created a class\n",
    "    def __init__(self,name,age): #defining class attributes\n",
    "        self.n=name\n",
    "        self.age=age\n",
    "    \n",
    "    def myfunc(self): #defining a method of this class\n",
    "        print('name=',self.n,'age=',self.age)\n",
    "        \n",
    "#creating an object\n",
    "maya=student('maya',5)\n",
    "maya.myfunc()"
   ]
  },
  {
   "cell_type": "code",
   "execution_count": 9,
   "id": "932d30a0",
   "metadata": {},
   "outputs": [
    {
     "name": "stdout",
     "output_type": "stream",
     "text": [
      "john cleared the test\n",
      "failed\n"
     ]
    }
   ],
   "source": [
    "class student:\n",
    "    def __init__(self,name,rno,mark):\n",
    "        self.name=name\n",
    "        self.rno=rno\n",
    "        self.mark=mark\n",
    "    def results(self):\n",
    "        if self.mark>40:\n",
    "            print(self.name,'cleared the test')\n",
    "        else:\n",
    "            print('failed')\n",
    "            \n",
    "john=student('john',22,85)\n",
    "mary=student('mary',23,36)\n",
    "\n",
    "john.results()\n",
    "mary.results()"
   ]
  },
  {
   "cell_type": "code",
   "execution_count": 11,
   "id": "1c79026b",
   "metadata": {},
   "outputs": [
    {
     "name": "stdout",
     "output_type": "stream",
     "text": [
      "100.48\n",
      "50.24\n"
     ]
    }
   ],
   "source": [
    "class circle:\n",
    "    def __init__(self,radius):\n",
    "        self.r=radius\n",
    "    def area(self):\n",
    "        a=2*3.14*self.r*self.r\n",
    "        print(a)\n",
    "    def circumference(self):\n",
    "        c=4*3.14*self.r\n",
    "        print(c)\n",
    "    \n",
    "object=circle(4)\n",
    "object.area()\n",
    "object.circumference()"
   ]
  },
  {
   "cell_type": "code",
   "execution_count": 14,
   "id": "7fac698c",
   "metadata": {},
   "outputs": [
    {
     "name": "stdout",
     "output_type": "stream",
     "text": [
      "radius:  2.5\n",
      "Area : 19.634954084936208\n",
      "Primeter : 15.707963267948966\n"
     ]
    }
   ],
   "source": [
    "import math\n",
    "\n",
    "class Circle:\n",
    "    def __init__(self,radius):\n",
    "        self.r=radius\n",
    "        \n",
    "    def Area(self):\n",
    "        area=math.pi*self.r*self.r\n",
    "        return area\n",
    "    \n",
    "    def circumference(self):\n",
    "        p=2*math.pi*self.r\n",
    "        return p\n",
    "        \n",
    "    def display(self):\n",
    "        print(\"radius: \",self.r)\n",
    "        print(\"Area :\",self.Area())\n",
    "        print(\"Primeter :\",self.circumference())\n",
    "        \n",
    "obj=Circle(2.5)\n",
    "obj.display()"
   ]
  },
  {
   "cell_type": "code",
   "execution_count": 18,
   "id": "ab316477",
   "metadata": {},
   "outputs": [
    {
     "name": "stdout",
     "output_type": "stream",
     "text": [
      "80\n",
      "senior\n"
     ]
    }
   ],
   "source": [
    "class person:\n",
    "    def __init__(self,name):\n",
    "        self.name=name\n",
    "        \n",
    "    def getname(self):\n",
    "        print(self.name)\n",
    "        \n",
    "    def getage(self,age):\n",
    "        self.age=age\n",
    "        print(age)\n",
    "        \n",
    "    def seniorcitizen(self):\n",
    "        if (self.age>60):\n",
    "            print('senior')\n",
    "    \n",
    "p1=person('raju')\n",
    "p1.getage(80)\n",
    "p1.seniorcitizen()\n"
   ]
  },
  {
   "cell_type": "markdown",
   "id": "5dd13f4a",
   "metadata": {},
   "source": [
    "# inhritance"
   ]
  },
  {
   "cell_type": "code",
   "execution_count": null,
   "id": "741b77e1",
   "metadata": {},
   "outputs": [],
   "source": [
    "#base class or parent class\n",
    "#derived class or child class"
   ]
  },
  {
   "cell_type": "code",
   "execution_count": 22,
   "id": "f67a9022",
   "metadata": {},
   "outputs": [
    {
     "name": "stdout",
     "output_type": "stream",
     "text": [
      "5 6\n",
      "11\n"
     ]
    }
   ],
   "source": [
    "#parent class\n",
    "class num1:\n",
    "    def __init__(self,a,b):\n",
    "        self.x=a\n",
    "        self.y=b\n",
    "    def showvalue(self): \n",
    "        print(self.x,self.y)\n",
    "        \n",
    "class num2(num1):\n",
    "    \n",
    "    def showsum(self):\n",
    "        print(self.x+self.y)\n",
    "        \n",
    "    def showproduct(self):\n",
    "        print(self.x*self.y)\n",
    "        \n",
    "p=num2(5,6)\n",
    "p.showvalue()\n",
    "p.showsum()"
   ]
  },
  {
   "cell_type": "code",
   "execution_count": 23,
   "id": "f47f9903",
   "metadata": {},
   "outputs": [
    {
     "name": "stdout",
     "output_type": "stream",
     "text": [
      "Pass\n",
      "failed\n"
     ]
    }
   ],
   "source": [
    "#Method overriding\n",
    "class student:\n",
    "    def __init__(self,n,m):\n",
    "        self.name=n\n",
    "        self.mark=m\n",
    "        \n",
    "    def showresults(self):\n",
    "        if self.mark>40:\n",
    "            print('Pass')\n",
    "        else:\n",
    "            print('failed')\n",
    "            \n",
    "class masterstud(student):\n",
    "    def showresults(self):\n",
    "        if self.mark>60:\n",
    "            print('Pass')\n",
    "        else:\n",
    "            print('failed')\n",
    "            \n",
    "s1 = student('xx',45)\n",
    "s1.showresults()\n",
    "\n",
    "s2 = masterstud('xx',45)\n",
    "s2.showresults()\n",
    "    "
   ]
  },
  {
   "cell_type": "markdown",
   "id": "4b0b0212",
   "metadata": {},
   "source": [
    "# polymorphism"
   ]
  },
  {
   "cell_type": "code",
   "execution_count": 24,
   "id": "42c6d615",
   "metadata": {},
   "outputs": [
    {
     "name": "stdout",
     "output_type": "stream",
     "text": [
      "50\n",
      "31.400000000000002\n"
     ]
    }
   ],
   "source": [
    "class polygon:\n",
    "    def __init__(self):\n",
    "        pass\n",
    "    def area(self):\n",
    "        pass\n",
    "    def perimeter(self):\n",
    "        pass\n",
    "    \n",
    "class rectangle(polygon):\n",
    "    def __init__(self,l,b):\n",
    "        self.l=l\n",
    "        self.b=b\n",
    "    def area(self):\n",
    "        return(self.l*self.b)\n",
    "    def perimeter(self):\n",
    "        return(2*(self.l+self.b))\n",
    "    \n",
    "class circle(polygon):\n",
    "    def __init__(self,r):\n",
    "        self.r=r\n",
    "    def area(self):\n",
    "        return(2*3.14*self.r**2)\n",
    "    def perimeter(self):\n",
    "        return(2*3.14*self.r)\n",
    "\n",
    "r1=rectangle(5,10)\n",
    "c1=circle(5)\n",
    "\n",
    "print(r1.area())\n",
    "print(c1.perimeter())\n",
    "    "
   ]
  },
  {
   "cell_type": "markdown",
   "id": "f956f8fa",
   "metadata": {},
   "source": [
    "# Encapsulation"
   ]
  },
  {
   "cell_type": "code",
   "execution_count": 29,
   "id": "20369c31",
   "metadata": {},
   "outputs": [
    {
     "name": "stdout",
     "output_type": "stream",
     "text": [
      "failed\n"
     ]
    }
   ],
   "source": [
    "class student:\n",
    "    def __init__(self,r,m):\n",
    "        self.r=r\n",
    "        self._m=m #private data ,masking that value\n",
    "    def declareresult(self,m):\n",
    "        if self._m>40:\n",
    "            print('pass')\n",
    "        else:\n",
    "            print('failed')\n",
    "                \n",
    "x=student(1,39)\n",
    "x.declareresult(50)"
   ]
  },
  {
   "cell_type": "code",
   "execution_count": null,
   "id": "ef7fe900",
   "metadata": {},
   "outputs": [],
   "source": []
  },
  {
   "cell_type": "code",
   "execution_count": null,
   "id": "85576bad",
   "metadata": {},
   "outputs": [],
   "source": []
  }
 ],
 "metadata": {
  "kernelspec": {
   "display_name": "Python 3 (ipykernel)",
   "language": "python",
   "name": "python3"
  },
  "language_info": {
   "codemirror_mode": {
    "name": "ipython",
    "version": 3
   },
   "file_extension": ".py",
   "mimetype": "text/x-python",
   "name": "python",
   "nbconvert_exporter": "python",
   "pygments_lexer": "ipython3",
   "version": "3.9.13"
  }
 },
 "nbformat": 4,
 "nbformat_minor": 5
}
