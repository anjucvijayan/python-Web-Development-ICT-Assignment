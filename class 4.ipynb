{
 "cells": [
  {
   "cell_type": "code",
   "execution_count": null,
   "id": "1eee4823",
   "metadata": {},
   "outputs": [],
   "source": [
    "#print squares of number from 1 to 10"
   ]
  },
  {
   "cell_type": "code",
   "execution_count": 2,
   "id": "6ce22934",
   "metadata": {},
   "outputs": [
    {
     "name": "stdout",
     "output_type": "stream",
     "text": [
      "1 4 9 16 25 36 49 64 81 100 "
     ]
    }
   ],
   "source": [
    "for n in range(1,11):\n",
    "    print(n**2,end=' ')"
   ]
  },
  {
   "cell_type": "code",
   "execution_count": 3,
   "id": "9aaddaea",
   "metadata": {},
   "outputs": [
    {
     "name": "stdout",
     "output_type": "stream",
     "text": [
      "3 6 9 12 15 18 21 24 27 30 33 36 39 42 45 48 51 "
     ]
    }
   ],
   "source": [
    "#print numbers divisible by 3 from 1 to 51\n",
    "for i in range(1,52):\n",
    "    if i%3==0:\n",
    "        print(i,end=' ')"
   ]
  },
  {
   "cell_type": "code",
   "execution_count": 10,
   "id": "a79ce214",
   "metadata": {},
   "outputs": [
    {
     "name": "stdout",
     "output_type": "stream",
     "text": [
      "enter the number of limit4\n",
      "sum=  10\n",
      "average=  2.5\n"
     ]
    }
   ],
   "source": [
    "#take limit from user and find sum and average\n",
    "limit=int(input('enter the number of limit'))\n",
    "s=0\n",
    "for i in range (1,limit+1):\n",
    "    s=s+i\n",
    "print('sum= ',s)\n",
    "print('average= ',s/limit)\n"
   ]
  },
  {
   "cell_type": "code",
   "execution_count": 11,
   "id": "af0c0e24",
   "metadata": {},
   "outputs": [
    {
     "name": "stdout",
     "output_type": "stream",
     "text": [
      "142\n"
     ]
    }
   ],
   "source": [
    "#count the number divisible by 7 from 1 to 999\n",
    "c=0\n",
    "for i in range(1,1000):\n",
    "    if i%7==0:\n",
    "        c=c+1\n",
    "print(c)"
   ]
  },
  {
   "cell_type": "code",
   "execution_count": 18,
   "id": "efc11bb4",
   "metadata": {},
   "outputs": [
    {
     "name": "stdout",
     "output_type": "stream",
     "text": [
      "no of elements5\n",
      "Enter the element of the list34567\n",
      "Enter the element of the list6\n",
      "Enter the element of the list7\n",
      "Enter the element of the list8\n",
      "Enter the element of the list9\n",
      "[34567, 6, 7, 8, 9]\n"
     ]
    }
   ],
   "source": [
    "#take the no of elements from user and also get the elements of int list\n",
    "#print the list\n",
    "l=[]\n",
    "n=int(input('no of elements'))\n",
    "for i in range(1,n+1):\n",
    "    x=int(input('Enter the element of the list'))\n",
    "    l.append(x)\n",
    "print(l)"
   ]
  },
  {
   "cell_type": "code",
   "execution_count": 25,
   "id": "e265942d",
   "metadata": {},
   "outputs": [
    {
     "name": "stdout",
     "output_type": "stream",
     "text": [
      "no of elements4\n",
      "Enter the element of the list1\n",
      "Enter the element of the list2\n",
      "Enter the element of the list3\n",
      "Enter the element of the list4\n",
      "[1, 2, 3, 4]\n",
      "sum=  10\n",
      "avg=  2.5\n"
     ]
    }
   ],
   "source": [
    "l=[]\n",
    "n=int(input('no of elements'))\n",
    "s=0\n",
    "for i in range(1,n+1):\n",
    "    x=int(input('Enter the element of the list'))\n",
    "    l.append(x)\n",
    "for j in l:\n",
    "    s=s+j\n",
    "        \n",
    "print(l)\n",
    "print('sum= ',s)\n",
    "print('avg= ',s/n)"
   ]
  },
  {
   "cell_type": "code",
   "execution_count": 27,
   "id": "03e5897a",
   "metadata": {},
   "outputs": [
    {
     "name": "stdout",
     "output_type": "stream",
     "text": [
      "Enter multiple values: 2,3,4,5\n",
      "[4, 2, 3, 4, 5]\n",
      "Sum of first 3: 9\n"
     ]
    }
   ],
   "source": [
    "#sum of first 3\n",
    "sum1,count1=0,0\n",
    "l2= list(map(int, input(\"Enter multiple values: \").split(\",\")))\n",
    "for i in l2 :\n",
    "    l1.append(i)\n",
    "    if count1<3:\n",
    "        sum1+=i\n",
    "        count1+=1\n",
    "\n",
    "print(l1)\n",
    "print(\"Sum of first 3:\",sum1)"
   ]
  },
  {
   "cell_type": "markdown",
   "id": "f53ac107",
   "metadata": {},
   "source": [
    "# while loop"
   ]
  },
  {
   "cell_type": "code",
   "execution_count": 29,
   "id": "f96b41a0",
   "metadata": {},
   "outputs": [
    {
     "name": "stdout",
     "output_type": "stream",
     "text": [
      "0\n",
      "3\n",
      "6\n",
      "9\n"
     ]
    }
   ],
   "source": [
    "i=0\n",
    "while i<10:\n",
    "    print(i)\n",
    "    i+=3\n",
    "    \n"
   ]
  },
  {
   "cell_type": "code",
   "execution_count": 32,
   "id": "98ab4fc4",
   "metadata": {},
   "outputs": [
    {
     "name": "stdout",
     "output_type": "stream",
     "text": [
      "15\n"
     ]
    }
   ],
   "source": [
    "#sum of first 5 int using while loop\n",
    "i=0\n",
    "s=0\n",
    "while i<6:\n",
    "    s=s+i\n",
    "    i=i+1\n",
    "print(s)"
   ]
  },
  {
   "cell_type": "code",
   "execution_count": 34,
   "id": "0f73f182",
   "metadata": {},
   "outputs": [
    {
     "name": "stdout",
     "output_type": "stream",
     "text": [
      "Welcome to ICTAK\n",
      "Enter Quit to stop morning\n",
      "good morning\n",
      "Enter Quit to stop quit\n",
      "See you later\n"
     ]
    }
   ],
   "source": [
    "#Basic interactive code\n",
    "print('Welcome to ICTAK')\n",
    "while True:\n",
    "    x=input('Enter Quit to stop ')\n",
    "    x=x.lower()\n",
    "    if x=='quit':\n",
    "        print('See you later')\n",
    "        break\n",
    "    y=x.split()\n",
    "    if len(y)==0:\n",
    "        print('please give a valid input')\n",
    "    elif 'morning' in y:\n",
    "        print('good morning')\n",
    "    elif 'course' in y:\n",
    "        print('please visit www.ictak.org for more details')\n",
    "    elif 'python' in y:\n",
    "        print('yes we have python course,please visit www,ictak.org')\n",
    "    else:\n",
    "        print('please use another option')\n"
   ]
  },
  {
   "cell_type": "code",
   "execution_count": 39,
   "id": "d0fc4e6a",
   "metadata": {},
   "outputs": [
    {
     "name": "stdout",
     "output_type": "stream",
     "text": [
      "enter the number1\n",
      "neither prime nor composit\n"
     ]
    }
   ],
   "source": [
    "#getting a number from user and whether prime or nit\n",
    "n=int(input('enter the number'))\n",
    "if n>1:\n",
    "    for i in range(2,n):\n",
    "        if n%i==0:\n",
    "            print('not prime')\n",
    "            break\n",
    "    else:\n",
    "        print('prime')\n",
    "else:\n",
    "    print('neither prime nor composit')\n"
   ]
  },
  {
   "cell_type": "code",
   "execution_count": 40,
   "id": "b3813de9",
   "metadata": {},
   "outputs": [
    {
     "name": "stdout",
     "output_type": "stream",
     "text": [
      "Enter a number6\n",
      "not prime\n"
     ]
    }
   ],
   "source": [
    "n=int(input(\"Enter a number\"))\n",
    "flag=1\n",
    "if n==2:\n",
    "    print(\"prime\")\n",
    "elif n==1:\n",
    "    print(\"neither\")\n",
    "    \n",
    "elif n>1:\n",
    "    for k in range(2,int(n**(1/2)+1)):\n",
    "        if n%k!=0:\n",
    "            flag=1\n",
    "            continue\n",
    "        else:\n",
    "            flag=0\n",
    "            break\n",
    "    print(\"prime\") if flag==1 else print(\"not prime\")"
   ]
  },
  {
   "cell_type": "code",
   "execution_count": null,
   "id": "9c2a9641",
   "metadata": {},
   "outputs": [],
   "source": [
    "#multiplication table of 5"
   ]
  },
  {
   "cell_type": "code",
   "execution_count": 42,
   "id": "0cf89549",
   "metadata": {},
   "outputs": [
    {
     "name": "stdout",
     "output_type": "stream",
     "text": [
      "5 X 1 = 5\n",
      "5 X 2 = 10\n",
      "5 X 3 = 15\n",
      "5 X 4 = 20\n",
      "5 X 5 = 25\n",
      "5 X 6 = 30\n",
      "5 X 7 = 35\n",
      "5 X 8 = 40\n",
      "5 X 9 = 45\n",
      "5 X 10 = 50\n"
     ]
    }
   ],
   "source": [
    "for i in range(1,11):\n",
    "    print('5 X',i,'=',i*5)"
   ]
  },
  {
   "cell_type": "code",
   "execution_count": 43,
   "id": "7eb93f90",
   "metadata": {},
   "outputs": [
    {
     "name": "stdout",
     "output_type": "stream",
     "text": [
      "Multiplication table of  1\n",
      "1 X 1 = 1\n",
      "1 X 2 = 2\n",
      "1 X 3 = 3\n",
      "1 X 4 = 4\n",
      "1 X 5 = 5\n",
      "1 X 6 = 6\n",
      "1 X 7 = 7\n",
      "1 X 8 = 8\n",
      "1 X 9 = 9\n",
      "1 X 10 = 10\n",
      "Multiplication table of  2\n",
      "2 X 1 = 2\n",
      "2 X 2 = 4\n",
      "2 X 3 = 6\n",
      "2 X 4 = 8\n",
      "2 X 5 = 10\n",
      "2 X 6 = 12\n",
      "2 X 7 = 14\n",
      "2 X 8 = 16\n",
      "2 X 9 = 18\n",
      "2 X 10 = 20\n",
      "Multiplication table of  3\n",
      "3 X 1 = 3\n",
      "3 X 2 = 6\n",
      "3 X 3 = 9\n",
      "3 X 4 = 12\n",
      "3 X 5 = 15\n",
      "3 X 6 = 18\n",
      "3 X 7 = 21\n",
      "3 X 8 = 24\n",
      "3 X 9 = 27\n",
      "3 X 10 = 30\n",
      "Multiplication table of  4\n",
      "4 X 1 = 4\n",
      "4 X 2 = 8\n",
      "4 X 3 = 12\n",
      "4 X 4 = 16\n",
      "4 X 5 = 20\n",
      "4 X 6 = 24\n",
      "4 X 7 = 28\n",
      "4 X 8 = 32\n",
      "4 X 9 = 36\n",
      "4 X 10 = 40\n",
      "Multiplication table of  5\n",
      "5 X 1 = 5\n",
      "5 X 2 = 10\n",
      "5 X 3 = 15\n",
      "5 X 4 = 20\n",
      "5 X 5 = 25\n",
      "5 X 6 = 30\n",
      "5 X 7 = 35\n",
      "5 X 8 = 40\n",
      "5 X 9 = 45\n",
      "5 X 10 = 50\n",
      "Multiplication table of  6\n",
      "6 X 1 = 6\n",
      "6 X 2 = 12\n",
      "6 X 3 = 18\n",
      "6 X 4 = 24\n",
      "6 X 5 = 30\n",
      "6 X 6 = 36\n",
      "6 X 7 = 42\n",
      "6 X 8 = 48\n",
      "6 X 9 = 54\n",
      "6 X 10 = 60\n",
      "Multiplication table of  7\n",
      "7 X 1 = 7\n",
      "7 X 2 = 14\n",
      "7 X 3 = 21\n",
      "7 X 4 = 28\n",
      "7 X 5 = 35\n",
      "7 X 6 = 42\n",
      "7 X 7 = 49\n",
      "7 X 8 = 56\n",
      "7 X 9 = 63\n",
      "7 X 10 = 70\n",
      "Multiplication table of  8\n",
      "8 X 1 = 8\n",
      "8 X 2 = 16\n",
      "8 X 3 = 24\n",
      "8 X 4 = 32\n",
      "8 X 5 = 40\n",
      "8 X 6 = 48\n",
      "8 X 7 = 56\n",
      "8 X 8 = 64\n",
      "8 X 9 = 72\n",
      "8 X 10 = 80\n",
      "Multiplication table of  9\n",
      "9 X 1 = 9\n",
      "9 X 2 = 18\n",
      "9 X 3 = 27\n",
      "9 X 4 = 36\n",
      "9 X 5 = 45\n",
      "9 X 6 = 54\n",
      "9 X 7 = 63\n",
      "9 X 8 = 72\n",
      "9 X 9 = 81\n",
      "9 X 10 = 90\n",
      "Multiplication table of  10\n",
      "10 X 1 = 10\n",
      "10 X 2 = 20\n",
      "10 X 3 = 30\n",
      "10 X 4 = 40\n",
      "10 X 5 = 50\n",
      "10 X 6 = 60\n",
      "10 X 7 = 70\n",
      "10 X 8 = 80\n",
      "10 X 9 = 90\n",
      "10 X 10 = 100\n"
     ]
    }
   ],
   "source": [
    "for i in range(1,11):\n",
    "    print('Multiplication table of ',i)\n",
    "    for j in range(1,11):\n",
    "        print(i,'X',j,'=',i*j)\n",
    "        "
   ]
  },
  {
   "cell_type": "code",
   "execution_count": null,
   "id": "2e4c7689",
   "metadata": {},
   "outputs": [],
   "source": []
  }
 ],
 "metadata": {
  "kernelspec": {
   "display_name": "Python 3 (ipykernel)",
   "language": "python",
   "name": "python3"
  },
  "language_info": {
   "codemirror_mode": {
    "name": "ipython",
    "version": 3
   },
   "file_extension": ".py",
   "mimetype": "text/x-python",
   "name": "python",
   "nbconvert_exporter": "python",
   "pygments_lexer": "ipython3",
   "version": "3.9.13"
  }
 },
 "nbformat": 4,
 "nbformat_minor": 5
}
